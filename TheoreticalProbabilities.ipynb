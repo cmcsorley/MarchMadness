{
 "cells": [
  {
   "cell_type": "code",
   "execution_count": 18,
   "metadata": {},
   "outputs": [],
   "source": [
    "import pandas as pd\n",
    "import matplotlib.pyplot as plt"
   ]
  },
  {
   "cell_type": "code",
   "execution_count": 2,
   "metadata": {},
   "outputs": [],
   "source": [
    "madness = pd.read_csv(\"C:/Users/catmc/Downloads/Big_Dance_CSV.csv\")"
   ]
  },
  {
   "cell_type": "code",
   "execution_count": 3,
   "metadata": {},
   "outputs": [
    {
     "data": {
      "text/html": [
       "<div>\n",
       "<style scoped>\n",
       "    .dataframe tbody tr th:only-of-type {\n",
       "        vertical-align: middle;\n",
       "    }\n",
       "\n",
       "    .dataframe tbody tr th {\n",
       "        vertical-align: top;\n",
       "    }\n",
       "\n",
       "    .dataframe thead th {\n",
       "        text-align: right;\n",
       "    }\n",
       "</style>\n",
       "<table border=\"1\" class=\"dataframe\">\n",
       "  <thead>\n",
       "    <tr style=\"text-align: right;\">\n",
       "      <th></th>\n",
       "      <th>Year</th>\n",
       "      <th>Round</th>\n",
       "      <th>Region Number</th>\n",
       "      <th>Region Name</th>\n",
       "      <th>Seed</th>\n",
       "      <th>Score</th>\n",
       "      <th>Team</th>\n",
       "      <th>Team.1</th>\n",
       "      <th>Score.1</th>\n",
       "      <th>Seed.1</th>\n",
       "    </tr>\n",
       "  </thead>\n",
       "  <tbody>\n",
       "    <tr>\n",
       "      <th>0</th>\n",
       "      <td>1985</td>\n",
       "      <td>1</td>\n",
       "      <td>1</td>\n",
       "      <td>West</td>\n",
       "      <td>1</td>\n",
       "      <td>83</td>\n",
       "      <td>St Johns</td>\n",
       "      <td>Southern</td>\n",
       "      <td>59</td>\n",
       "      <td>16</td>\n",
       "    </tr>\n",
       "    <tr>\n",
       "      <th>1</th>\n",
       "      <td>1985</td>\n",
       "      <td>1</td>\n",
       "      <td>1</td>\n",
       "      <td>West</td>\n",
       "      <td>2</td>\n",
       "      <td>81</td>\n",
       "      <td>VCU</td>\n",
       "      <td>Marshall</td>\n",
       "      <td>65</td>\n",
       "      <td>15</td>\n",
       "    </tr>\n",
       "    <tr>\n",
       "      <th>2</th>\n",
       "      <td>1985</td>\n",
       "      <td>1</td>\n",
       "      <td>1</td>\n",
       "      <td>West</td>\n",
       "      <td>3</td>\n",
       "      <td>65</td>\n",
       "      <td>NC State</td>\n",
       "      <td>Nevada</td>\n",
       "      <td>56</td>\n",
       "      <td>14</td>\n",
       "    </tr>\n",
       "    <tr>\n",
       "      <th>3</th>\n",
       "      <td>1985</td>\n",
       "      <td>1</td>\n",
       "      <td>1</td>\n",
       "      <td>West</td>\n",
       "      <td>4</td>\n",
       "      <td>85</td>\n",
       "      <td>UNLV</td>\n",
       "      <td>San Diego St</td>\n",
       "      <td>80</td>\n",
       "      <td>13</td>\n",
       "    </tr>\n",
       "    <tr>\n",
       "      <th>4</th>\n",
       "      <td>1985</td>\n",
       "      <td>1</td>\n",
       "      <td>1</td>\n",
       "      <td>West</td>\n",
       "      <td>5</td>\n",
       "      <td>58</td>\n",
       "      <td>Washington</td>\n",
       "      <td>Kentucky</td>\n",
       "      <td>65</td>\n",
       "      <td>12</td>\n",
       "    </tr>\n",
       "  </tbody>\n",
       "</table>\n",
       "</div>"
      ],
      "text/plain": [
       "   Year  Round  Region Number Region Name  Seed  Score        Team  \\\n",
       "0  1985      1              1        West     1     83    St Johns   \n",
       "1  1985      1              1        West     2     81         VCU   \n",
       "2  1985      1              1        West     3     65    NC State   \n",
       "3  1985      1              1        West     4     85        UNLV   \n",
       "4  1985      1              1        West     5     58  Washington   \n",
       "\n",
       "         Team.1  Score.1  Seed.1  \n",
       "0      Southern       59      16  \n",
       "1      Marshall       65      15  \n",
       "2        Nevada       56      14  \n",
       "3  San Diego St       80      13  \n",
       "4      Kentucky       65      12  "
      ]
     },
     "execution_count": 3,
     "metadata": {},
     "output_type": "execute_result"
    }
   ],
   "source": [
    "madness.head()"
   ]
  },
  {
   "cell_type": "code",
   "execution_count": 12,
   "metadata": {},
   "outputs": [],
   "source": [
    "#all absolute values the seed differences\n",
    "seedDiff = []\n",
    "#did the smaller seed (so higher ranked team) win?\n",
    "smallerWin = []\n",
    "\n",
    "for i in range(0, len(madness.Seed)):\n",
    "    seedDiffi = madness['Seed'][i] - madness['Seed.1'][i]\n",
    "    seedDiff.append(abs(seedDiffi))\n",
    "    if seedDiffi <= 0:\n",
    "        if madness['Score'][i] > madness['Score.1'][i]:\n",
    "            smallerWin.append(1)\n",
    "        else: smallerWin.append(0)\n",
    "    else:\n",
    "        if madness['Score'][i] > madness['Score.1'][i]:\n",
    "            smallerWin.append(0)\n",
    "        else: smallerWin.append(1)\n",
    "            \n",
    "d = {'seed difference': seedDiff, 'higher rank win': smallerWin}\n",
    "seedStats = pd.DataFrame(d)"
   ]
  },
  {
   "cell_type": "code",
   "execution_count": 47,
   "metadata": {},
   "outputs": [],
   "source": [
    "index = []\n",
    "probability = []\n",
    "counts = []\n",
    "for i in range(0, 16):\n",
    "    count = len(seedStats['higher rank win'][seedStats['seed difference']==i])\n",
    "    if count > 0:\n",
    "        probability.append(sum(seedStats['higher rank win'][seedStats['seed difference']==i]) / count)\n",
    "        index.append(i)\n",
    "        counts.append(count)"
   ]
  },
  {
   "cell_type": "code",
   "execution_count": 22,
   "metadata": {},
   "outputs": [
    {
     "data": {
      "text/plain": [
       "<matplotlib.collections.PathCollection at 0x2c1e3fcf4e0>"
      ]
     },
     "execution_count": 22,
     "metadata": {},
     "output_type": "execute_result"
    },
    {
     "data": {
      "image/png": "[encoded data removed]",
      "text/plain": [
       "<Figure size 432x288 with 1 Axes>"
      ]
     },
     "metadata": {
      "needs_background": "light"
     },
     "output_type": "display_data"
    }
   ],
   "source": [
    "plt.scatter(index, probability)"
   ]
  },
  {
   "cell_type": "code",
   "execution_count": 51,
   "metadata": {},
   "outputs": [],
   "source": [
    "from sklearn.linear_model import LinearRegression\n",
    "import numpy as np"
   ]
  },
  {
   "cell_type": "code",
   "execution_count": 28,
   "metadata": {},
   "outputs": [
    {
     "data": {
      "text/plain": [
       "[26, 367, 51, 294, 118, 245, 18, 226, 245, 162, 8, 160, 5, 140, 140]"
      ]
     },
     "execution_count": 28,
     "metadata": {},
     "output_type": "execute_result"
    }
   ],
   "source": [
    "counts"
   ]
  },
  {
   "cell_type": "code",
   "execution_count": 48,
   "metadata": {},
   "outputs": [
    {
     "data": {
      "text/plain": [
       "<matplotlib.collections.PathCollection at 0x2c1e642b780>"
      ]
     },
     "execution_count": 48,
     "metadata": {},
     "output_type": "execute_result"
    },
    {
     "data": {
      "image/png": "[encoded data removed]",
      "text/plain": [
       "<Figure size 432x288 with 1 Axes>"
      ]
     },
     "metadata": {
      "needs_background": "light"
     },
     "output_type": "display_data"
    }
   ],
   "source": [
    "#remove index 10 and 12\n",
    "index.remove(12)\n",
    "index.remove(10)\n",
    "probability.remove(1.0)\n",
    "probability.remove(0.625)\n",
    "\n",
    "plt.scatter(index, probability)"
   ]
  },
  {
   "cell_type": "code",
   "execution_count": 53,
   "metadata": {},
   "outputs": [],
   "source": [
    "x = np.array(index)\n",
    "y = np.array(probability)\n",
    "reg = LinearRegression().fit(x.reshape(-1,1), y)"
   ]
  },
  {
   "cell_type": "code",
   "execution_count": 63,
   "metadata": {},
   "outputs": [
    {
     "name": "stdout",
     "output_type": "stream",
     "text": [
      "[0.53091239 0.56435336 0.59779432 0.63123528 0.66467625 0.69811721\n",
      " 0.73155818 0.76499914 0.79844011 0.83188107 0.86532203 0.898763\n",
      " 0.93220396 0.96564493 0.99908589]\n"
     ]
    },
    {
     "data": {
      "text/plain": [
       "array([0.46908761, 0.43564664, 0.40220568, 0.36876472, 0.33532375,\n",
       "       0.30188279, 0.26844182, 0.23500086, 0.20155989, 0.16811893,\n",
       "       0.13467797, 0.101237  , 0.06779604, 0.03435507, 0.00091411])"
      ]
     },
     "execution_count": 63,
     "metadata": {},
     "output_type": "execute_result"
    }
   ],
   "source": [
    "inputs = np.array([1, 2, 3, 4, 5, 6, 7, 8, 9, 10, 11, 12, 13, 14, 15])\n",
    "predictions = reg.predict(inputs.reshape(-1,1))\n",
    "print(predictions)\n",
    "[1,1,1,1,1,1,1,1,1,1,1,1,1,1,1] - predictions"
   ]
  },
  {
   "cell_type": "code",
   "execution_count": null,
   "metadata": {},
   "outputs": [],
   "source": []
  },
  {
   "cell_type": "code",
   "execution_count": null,
   "metadata": {},
   "outputs": [],
   "source": []
  }
 ],
 "metadata": {
  "kernelspec": {
   "display_name": "Python 3",
   "language": "python",
   "name": "python3"
  },
  "language_info": {
   "codemirror_mode": {
    "name": "ipython",
    "version": 3
   },
   "file_extension": ".py",
   "mimetype": "text/x-python",
   "name": "python",
   "nbconvert_exporter": "python",
   "pygments_lexer": "ipython3",
   "version": "3.7.3"
  }
 },
 "nbformat": 4,
 "nbformat_minor": 2
}
